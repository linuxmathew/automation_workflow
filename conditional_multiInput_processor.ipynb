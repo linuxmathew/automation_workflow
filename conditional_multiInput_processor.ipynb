{
 "cells": [
  {
   "cell_type": "code",
   "execution_count": 5,
   "id": "24c22600",
   "metadata": {},
   "outputs": [],
   "source": [
    "from typing import TypedDict, List\n",
    "from langgraph.graph import StateGraph"
   ]
  },
  {
   "cell_type": "code",
   "execution_count": 10,
   "id": "7e226e32",
   "metadata": {},
   "outputs": [],
   "source": [
    "class AgentState(TypedDict):\n",
    "    name:str\n",
    "    values:List[int]\n",
    "    operator:str\n",
    "    result:str\n",
    "\n",
    "\n",
    "def perform_operation(state: AgentState)->AgentState:\n",
    "    \n",
    "    arith = 0\n",
    "    if(state['operator'] == '+'):\n",
    "        arith = sum(state['values'])\n",
    "    elif(state['operator']== '*'):\n",
    "        arith = 1\n",
    "        for num in state['values']:\n",
    "            arith *= num\n",
    "    \n",
    "    \n",
    "    state['result'] = f\"Hi, {state['name']}, your calculation result is {arith}\"\n",
    "    return state\n"
   ]
  },
  {
   "cell_type": "code",
   "execution_count": 11,
   "id": "037c7a53",
   "metadata": {},
   "outputs": [],
   "source": [
    "graph = StateGraph(AgentState)\n",
    "graph.add_node('operator', perform_operation)\n",
    "graph.set_entry_point('operator')\n",
    "graph.set_finish_point('operator')\n",
    "\n",
    "app = graph.compile()"
   ]
  },
  {
   "cell_type": "code",
   "execution_count": 12,
   "id": "ace5b85a",
   "metadata": {},
   "outputs": [
    {
     "data": {
      "image/png": "[encoded data removed]",
      "text/plain": [
       "<IPython.core.display.Image object>"
      ]
     },
     "metadata": {},
     "output_type": "display_data"
    }
   ],
   "source": [
    "from IPython.display import display, Image\n",
    "\n",
    "display(Image(app.get_graph().draw_mermaid_png()))"
   ]
  },
  {
   "cell_type": "code",
   "execution_count": 19,
   "id": "3cb7a605",
   "metadata": {},
   "outputs": [],
   "source": [
    "answer = app.invoke({'values':[1,2,3,4,5,6], 'name':'Temitayo', 'operator':'*'})"
   ]
  },
  {
   "cell_type": "code",
   "execution_count": 21,
   "id": "715d899c",
   "metadata": {},
   "outputs": [
    {
     "name": "stdout",
     "output_type": "stream",
     "text": [
      "Hi, Temitayo, your calculation result is 720\n"
     ]
    }
   ],
   "source": [
    "print(answer['result'])"
   ]
  }
 ],
 "metadata": {
  "kernelspec": {
   "display_name": ".venv",
   "language": "python",
   "name": "python3"
  },
  "language_info": {
   "codemirror_mode": {
    "name": "ipython",
    "version": 3
   },
   "file_extension": ".py",
   "mimetype": "text/x-python",
   "name": "python",
   "nbconvert_exporter": "python",
   "pygments_lexer": "ipython3",
   "version": "3.13.1"
  }
 },
 "nbformat": 4,
 "nbformat_minor": 5
}
