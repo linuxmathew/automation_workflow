{
 "cells": [
  {
   "cell_type": "code",
   "execution_count": 1,
   "id": "57c65de8",
   "metadata": {},
   "outputs": [],
   "source": [
    "from typing import TypedDict\n",
    "from langgraph.graph import StateGraph"
   ]
  },
  {
   "cell_type": "code",
   "execution_count": 13,
   "id": "cfe9bf76",
   "metadata": {},
   "outputs": [],
   "source": [
    "class AgentState(TypedDict):\n",
    "    name: str\n",
    "    hobby: str\n",
    "    age: int\n",
    "    result: str\n",
    "\n",
    "def intro_node(state: AgentState) -> AgentState:\n",
    "    state['result'] = f\"Hello {state['name']}! I hear you enjoy {state['hobby']}. \"\n",
    "    return state\n",
    "\n",
    "def math_node(state: AgentState)->AgentState:\n",
    "    age_squared = state['age'] ** 2\n",
    "    state['result'] = state['result'] + f\"Did you know? The square of your age is {age_squared}.\"\n",
    "    return state\n",
    "\n",
    "def closing_node(state: AgentState)->AgentState:\n",
    "    state['result']= state['result'] + 'Thanks for chatting with our system today!'\n",
    "    return state\n",
    "\n"
   ]
  },
  {
   "cell_type": "code",
   "execution_count": 15,
   "id": "1980f0b9",
   "metadata": {},
   "outputs": [],
   "source": [
    "graph = StateGraph(AgentState)\n",
    "\n",
    "graph.add_node('introduction', intro_node)\n",
    "graph.add_node('do_math', math_node)\n",
    "graph.add_node('closer', closing_node)\n",
    "\n",
    "graph.add_edge('introduction', 'do_math')\n",
    "graph.add_edge('do_math','closer')\n",
    "graph.set_entry_point('introduction')\n",
    "graph.set_finish_point('closer')\n",
    "\n",
    "app= graph.compile()"
   ]
  },
  {
   "cell_type": "code",
   "execution_count": 10,
   "id": "3e79ad1a",
   "metadata": {},
   "outputs": [
    {
     "data": {
      "image/png": "[encoded data removed]",
      "text/plain": [
       "<IPython.core.display.Image object>"
      ]
     },
     "metadata": {},
     "output_type": "display_data"
    }
   ],
   "source": [
    "from IPython.display import display, Image\n",
    "display(Image(app.get_graph().draw_mermaid_png()))"
   ]
  },
  {
   "cell_type": "code",
   "execution_count": 16,
   "id": "6cf65779",
   "metadata": {},
   "outputs": [],
   "source": [
    "ans = app.invoke({ 'name': \"Temitayo\", 'hobby': \"Football\",\n",
    "    'age': 25})"
   ]
  },
  {
   "cell_type": "code",
   "execution_count": 17,
   "id": "99f9b1c0",
   "metadata": {},
   "outputs": [
    {
     "name": "stdout",
     "output_type": "stream",
     "text": [
      "Hello Temitayo! I hear you enjoy Football. Did you know? The square of your age is 625.Thanks for chatting with our system today!\n"
     ]
    }
   ],
   "source": [
    "print(ans['result'])"
   ]
  }
 ],
 "metadata": {
  "kernelspec": {
   "display_name": ".venv",
   "language": "python",
   "name": "python3"
  },
  "language_info": {
   "codemirror_mode": {
    "name": "ipython",
    "version": 3
   },
   "file_extension": ".py",
   "mimetype": "text/x-python",
   "name": "python",
   "nbconvert_exporter": "python",
   "pygments_lexer": "ipython3",
   "version": "3.13.1"
  }
 },
 "nbformat": 4,
 "nbformat_minor": 5
}
