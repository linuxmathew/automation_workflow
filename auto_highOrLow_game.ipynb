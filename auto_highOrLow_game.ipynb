{
 "cells": [
  {
   "cell_type": "code",
   "execution_count": 5,
   "id": "5c1846ef",
   "metadata": {},
   "outputs": [],
   "source": [
    "from typing import TypedDict, List\n",
    "from langgraph.graph import StateGraph\n",
    "import random"
   ]
  },
  {
   "cell_type": "code",
   "execution_count": 7,
   "id": "82d35f73",
   "metadata": {},
   "outputs": [],
   "source": [
    "class AgentState(TypedDict):\n",
    "    player_name:str\n",
    "    lower_bound:int\n",
    "    higher_bound:int\n",
    "    attempt: int\n",
    "    no_of_interest:int\n",
    "    guesses:List[int]\n",
    "\n"
   ]
  },
  {
   "cell_type": "code",
   "execution_count": null,
   "id": "2fd46295",
   "metadata": {},
   "outputs": [],
   "source": [
    "# make inizializer function ===setup_node\n",
    "def setup_node(state:AgentState)->AgentState:\n",
    "    \"\"\"Initialize my workflow\"\"\"\n",
    "    state['no_of_interest'] = random.randint(0, 10)\n",
    "    state['attempt'] = 0\n",
    "    return state\n",
    "\n",
    "\n",
    "\n",
    "# make function that perform hinting and determine hint_node"
   ]
  },
  {
   "cell_type": "code",
   "execution_count": null,
   "id": "ecc5ab09",
   "metadata": {},
   "outputs": [],
   "source": [
    "# make function that holds the guess logic = guess_node\n",
    "def guess_node(state:AgentState)->AgentState:\n",
    "    # guess a digit between lower-bound and upper-bound\n",
    "    guess_val = random.randint(state['lower_bound'], state['higher_bound'])\n",
    "    state['current_val'] = guess_val\n",
    "    # add generated number to guesses\n",
    "    state['guesses'].append(guess_val)\n",
    "    "
   ]
  },
  {
   "cell_type": "code",
   "execution_count": null,
   "id": "23dbd88c",
   "metadata": {},
   "outputs": [],
   "source": [
    "# hint node\n",
    "def hint_node(state:AgentState)->AgentState:\n",
    "    # compare val_of_interest and guessed_val\n",
    "    "
   ]
  },
  {
   "cell_type": "code",
   "execution_count": null,
   "id": "d088660a",
   "metadata": {},
   "outputs": [],
   "source": [
    "result = setup_node({'player_name':'Temitayo','lower_bound':1,'higher_bound':2,'attempt': 0,'guesses':[], 'no_of_interest':10})\n",
    "print(result)"
   ]
  }
 ],
 "metadata": {
  "kernelspec": {
   "display_name": ".venv",
   "language": "python",
   "name": "python3"
  },
  "language_info": {
   "codemirror_mode": {
    "name": "ipython",
    "version": 3
   },
   "file_extension": ".py",
   "mimetype": "text/x-python",
   "name": "python",
   "nbconvert_exporter": "python",
   "pygments_lexer": "ipython3",
   "version": "3.13.1"
  }
 },
 "nbformat": 4,
 "nbformat_minor": 5
}
